{
 "cells": [
  {
   "cell_type": "markdown",
   "metadata": {},
   "source": [
    "# Introdução a Curvas Utilizando Manim e Sympy\n",
    "\n"
   ]
  },
  {
   "cell_type": "markdown",
   "metadata": {},
   "source": [
    "## Referências\n",
    "\n",
    "Livro Ronaldo Freire\n",
    "\n",
    "\n",
    "## Texto da Asla:\n",
    "\n",
    "Sequencia de exercícios (incluindo exercícios adicionais aos que foram passados nas listas), organizados de forma a servir de tutorial para o aprendizado dos elemsntos teóricos abordados em sala através de recursos computacionais.\n",
    "\n",
    "\n",
    "## TODO\n",
    "\n",
    "Resolver problemas que podem surgir como Colab\n",
    "\n",
    "Exercícios para serem feitos:\n",
    "\n",
    "Básico:\n",
    "\n",
    "* L1Q1\n",
    "* L2Q1\n",
    "\n",
    "Médio:\n",
    "\n",
    "* L3Q5\n",
    "* L3Q3\n",
    "\n",
    "Avançado:\n",
    "\n",
    "\n",
    "* Desenhar curva a partir da curvatura\n",
    "* Curvas em $\\mathbb{R}^3$ com torção"
   ]
  },
  {
   "cell_type": "markdown",
   "metadata": {},
   "source": [
    "**Autor**: Caio Lins\n",
    "\n",
    "Este trabalho tem como objetivo introduzir conceitos da teoria de curvas planas e espaciais, utilizando as bibliotecas `Sympy` e `Manim` da linguagem de programação `Python`.\n"
   ]
  },
  {
   "cell_type": "markdown",
   "metadata": {},
   "source": [
    "## Ambiente computacional\n",
    "\n",
    "Utilizaremos a linguagem Python 3. A versão específica utilizada na elaboração desse documento é a 3.8.10.\n",
    "\n",
    "A biblioteca [`Sympy`](https://www.sympy.org/en/index.html) permite a realização de cálculos simbólicos dentro de `Python` e será utilizada para computar algumas derivadas e integrais inerentes ao estudo da Geometria Diferencial.\n",
    "\n",
    "Por outro lado, a biblioteca [`Manim`](https://docs.manim.community/en/stable/index.html) facilita imensamente a criação de animações envolvendo objetos matemáticos.\n",
    "Ela surgiu como um projeto pessoal do YouTuber, e graduado em Matemática e Ciência da Computação por Stanford, Grant Sanderson, em seu (excelente!) canal [3Blue1Brown](https://www.youtube.com/c/3blue1brown).\n",
    "Atualmente, ela é mantida como um projeto da comunidade.\n",
    "\n",
    "Nos links acima é possível encontrar instruções para realizar a instalação de ambas bibliotecas.\n",
    "Para a `Manim`, recomendamos instalá-la localmente, junto com todas as dependências listadas (opcionais e obrigatórias).\n",
    "\n",
    "Caso não queira fazer isso no momento, uma opção é abrir esse notebook no Google Colab e executar a célula seguinte:"
   ]
  },
  {
   "cell_type": "code",
   "execution_count": 19,
   "metadata": {},
   "outputs": [
    {
     "name": "stdout",
     "output_type": "stream",
     "text": [
      "Not running on Colab\n"
     ]
    }
   ],
   "source": [
    "## Execute only when in colab\n",
    "\n",
    "if 'google.colab' in str(get_ipython()):\n",
    "    print('Running on Colab\\n')\n",
    "    !sudo apt update\n",
    "    !sudo apt install libcairo2-dev ffmpeg \\\n",
    "        texlive texlive-latex-extra texlive-fonts-extra \\\n",
    "        texlive-latex-recommended texlive-science \\\n",
    "        tipa libpango1.0-dev\n",
    "    !pip install manim\n",
    "    !pip install IPython --upgrade\n",
    "    !pip install sympy\n",
    "else:\n",
    "    print('Not running on Colab')"
   ]
  },
  {
   "cell_type": "markdown",
   "metadata": {},
   "source": [
    "A formatação desse caderno é retirada do curso [Practical Numerical Methods with Python](https://github.com/numerical-mooc/numerical-mooc), com código licenciado sob a MIT license (c) 2014 L.A. Barba, C. Cooper, G.F. Forsyth, A. Krishnan. Para carrega-lá, basta executar a célula seguinte."
   ]
  },
  {
   "cell_type": "code",
   "execution_count": 18,
   "metadata": {},
   "outputs": [
    {
     "data": {
      "text/html": [
       "<link href='http://fonts.googleapis.com/css?family=Alegreya+Sans:100,300,400,500,700,800,900,100italic,300italic,400italic,500italic,700italic,800italic,900italic' rel='stylesheet' type='text/css'>\n",
       "<link href='http://fonts.googleapis.com/css?family=Arvo:400,700,400italic' rel='stylesheet' type='text/css'>\n",
       "<link href='http://fonts.googleapis.com/css?family=PT+Mono' rel='stylesheet' type='text/css'>\n",
       "<link href='http://fonts.googleapis.com/css?family=Shadows+Into+Light' rel='stylesheet' type='text/css'>\n",
       "<link href='http://fonts.googleapis.com/css?family=Nixie+One' rel='stylesheet' type='text/css'>\n",
       "<link href='https://fonts.googleapis.com/css?family=Source+Code+Pro' rel='stylesheet' type='text/css'>\n",
       "<link href=\"https://fonts.googleapis.com/css2?family=Fira+Mono&display=swap\" rel=\"stylesheet\"> \n",
       "<link href=\"https://fonts.googleapis.com/css2?family=Fira+Code:wght@300;400;500;600;700&family=Fira+Mono:wght@400;500;700&display=swap\" rel=\"stylesheet\"> \n",
       "<style>\n",
       "\n",
       "@font-face {\n",
       "    font-family: \"Computer Modern\";\n",
       "    src: url('http://mirrors.ctan.org/fonts/cm-unicode/fonts/otf/cmunss.otf');\n",
       "}\n",
       "\n",
       "#notebook_panel { /* main background */\n",
       "    background: rgb(245,245,245);\n",
       "}\n",
       "\n",
       "div.cell { /* set cell width */\n",
       "    width: 750px;\n",
       "}\n",
       "\n",
       "div #notebook { /* centre the content */\n",
       "    background: #fff; /* white background for content */\n",
       "    width: 1000px;\n",
       "    margin: auto;\n",
       "    padding-left: 0em;\n",
       "}\n",
       "\n",
       "#notebook li { /* More space between bullet points */\n",
       "    margin-top:0.8em;\n",
       "}\n",
       "\n",
       "/* draw border around running cells */\n",
       "div.cell.border-box-sizing.code_cell.running { \n",
       "    border: 1px solid #111;\n",
       "}\n",
       "\n",
       "/* Put a solid color box around each cell and its output, visually linking them*/\n",
       "div.cell.code_cell {\n",
       "    background-color: rgb(256,256,256); \n",
       "    border-radius: 0px; \n",
       "    padding: 0.5em;\n",
       "    margin-left:1em;\n",
       "    margin-top: 1em;\n",
       "}\n",
       "\n",
       "div.text_cell_render{\n",
       "    font-family: 'Alegreya Sans' sans-serif;\n",
       "    line-height: 140%;\n",
       "    font-size: 125%;\n",
       "    font-weight: 400;\n",
       "    width:600px;\n",
       "    margin-left:auto;\n",
       "    margin-right:auto;\n",
       "}\n",
       "\n",
       "\n",
       "/* Formatting for header cells */\n",
       ".text_cell_render h1 {\n",
       "    font-family: 'Nixie One', serif;\n",
       "    font-style:regular;\n",
       "    font-weight: 400;    \n",
       "    font-size: 45pt;\n",
       "    line-height: 100%;\n",
       "    color: rgb(0,51,102);\n",
       "    margin-bottom: 0.5em;\n",
       "    margin-top: 0.5em;\n",
       "    display: block;\n",
       "}\n",
       "\n",
       ".text_cell_render h2 {\n",
       "    font-family: 'Nixie One', serif;\n",
       "    font-weight: 400;\n",
       "    font-size: 30pt;\n",
       "    line-height: 100%;\n",
       "    color: rgb(0,51,102);\n",
       "    margin-bottom: 0.1em;\n",
       "    margin-top: 0.3em;\n",
       "    display: block;\n",
       "}\t\n",
       "\n",
       ".text_cell_render h3 {\n",
       "    font-family: 'Nixie One', serif;\n",
       "    margin-top:16px;\n",
       "    font-size: 22pt;\n",
       "    font-weight: 600;\n",
       "    margin-bottom: 3px;\n",
       "    font-style: regular;\n",
       "    color: rgb(102,102,0);\n",
       "}\n",
       "\n",
       ".text_cell_render h4 {    /*Use this for captions*/\n",
       "    font-family: 'Nixie One', serif;\n",
       "    font-size: 14pt;\n",
       "    text-align: center;\n",
       "    margin-top: 0em;\n",
       "    margin-bottom: 0.8em;\n",
       "    font-style: regular;\n",
       "}\n",
       "\n",
       ".text_cell_render h5 {  /*Use this for small titles*/\n",
       "    font-family: 'Nixie One', sans-serif;\n",
       "    font-weight: 400;\n",
       "    font-size: 16pt;\n",
       "    color: rgb(163,0,0);\n",
       "    font-style: italic;\n",
       "    margin-bottom: .1em;\n",
       "    margin-top: 0.8em;\n",
       "    display: block;\n",
       "}\n",
       "\n",
       ".text_cell_render h6 { /*use this for copyright note*/\n",
       "    font-family: 'PT Mono', sans-serif;\n",
       "    font-weight: 300;\n",
       "    font-size: 9pt;\n",
       "    line-height: 100%;\n",
       "    color: grey;\n",
       "    margin-bottom: 1px;\n",
       "    margin-top: 1px;\n",
       "}\n",
       "\n",
       ".CodeMirror{\n",
       "    font-family: \"Fira Code\";\n",
       "    font-size: 100%;\n",
       "}\n",
       "\n",
       ".alert-box {\n",
       "    padding:10px 10px 10px 36px;\n",
       "    margin:5px;\n",
       "}\n",
       "\n",
       ".success {\n",
       "    color:#666600;\n",
       "    background:rgb(240,242,229);\n",
       "}\n",
       "</style>\n",
       "<script>\n",
       "    MathJax.Hub.Config({\n",
       "                        TeX: {\n",
       "                            extensions: [\"AMSmath.js\"],\n",
       "                            equationNumbers: { autoNumber: \"AMS\", useLabelIds: true}\n",
       "                            },\n",
       "                        tex2jax: {\n",
       "                            inlineMath: [ ['$','$'], [\"\\\\(\",\"\\\\)\"] ],\n",
       "                            displayMath: [ ['$$','$$'], [\"\\\\[\",\"\\\\]\"] ]\n",
       "                            },\n",
       "                        displayAlign: 'center', // Change this to 'center' to center equations.\n",
       "                        \"HTML-CSS\": {\n",
       "                            styles: {'.MathJax_Display': {\"margin\": 4}}\n",
       "                            }\n",
       "                        });\n",
       "    MathJax.Hub.Queue(\n",
       "                      [\"resetEquationNumbers\", MathJax.InputJax.TeX],\n",
       "                      [\"PreProcess\", MathJax.Hub],\n",
       "                      [\"Reprocess\", MathJax.Hub]\n",
       "                     );\n",
       "</script>\n"
      ],
      "text/plain": [
       "<IPython.core.display.HTML object>"
      ]
     },
     "execution_count": 18,
     "metadata": {},
     "output_type": "execute_result"
    }
   ],
   "source": [
    "# Load notebook style\n",
    "from IPython.core.display import HTML\n",
    "from os import getcwd\n",
    "css_file = f'{getcwd()}/../styles/numericalmoocstyle.css'\n",
    "HTML(open(css_file, 'r').read())"
   ]
  },
  {
   "cell_type": "markdown",
   "metadata": {},
   "source": [
    "## Teoria de Curvas Regulares"
   ]
  },
  {
   "cell_type": "markdown",
   "metadata": {},
   "source": [
    "Seja $I \\subset \\mathbb{R}$ um intervalo aberto.\n",
    "Uma aplicação diferenciável (aqui, diferenciável significa $C^\\infty$)\n",
    "$$\n",
    "    \\alpha : I \\to \\mathbb{R}^n\n",
    "$$\n",
    "é dita uma *curva parametrizada diferenciável*.\n",
    "Seu conjunto imagem, denotado por $\\alpha(I) \\subset \\mathbb{R}^n$, é denominado *traço* de $\\alpha$.\n",
    "\n",
    "Em particular, caso $n = 2$, a função $\\alpha$ pode ser escrita como\n",
    "$$\n",
    "    \\alpha(t) = ( x(t), y(t) ),\n",
    "$$\n",
    "Onde $x, y : I \\to \\mathbb{R}$ são diferenciáveis.\n",
    "Similarmente, se $n = 3$:\n",
    "$$\n",
    "    \\alpha(t) = ( x(t), y(t), z(t) ).\n",
    "$$"
   ]
  },
  {
   "cell_type": "markdown",
   "metadata": {},
   "source": [
    "### Exemplo: O círculo"
   ]
  },
  {
   "cell_type": "markdown",
   "metadata": {},
   "source": [
    "Seja $S^1 \\subset \\mathbb{R^2}$ o círculo unitário centrado na origem:\n",
    "$$\n",
    "    S^1 = \\{ (x, y) \\in \\mathbb{R^2} : x^2 + y^2 = 1 \\}\n",
    "$$\n",
    "Perceba que $S^1$ é o traço da curva $\\alpha : [0, 2 \\pi] \\to \\mathbb{R^2}$ dada por\n",
    "$$\n",
    "    \\alpha (t) = (\\cos t, \\sin t).\n",
    "$$\n",
    "\n",
    "Vamos desenhar esse objeto utilizando a `Manim`. Primeiro, apresentaremos o código e, em seguida, explicaremos seus principais elementos."
   ]
  },
  {
   "cell_type": "code",
   "execution_count": 20,
   "metadata": {},
   "outputs": [],
   "source": [
    "import numpy as np\n",
    "from manim import *"
   ]
  },
  {
   "cell_type": "code",
   "execution_count": 21,
   "metadata": {},
   "outputs": [
    {
     "data": {
      "image/png": "[encoded data removed]",
      "text/plain": [
       "<IPython.core.display.Image object>"
      ]
     },
     "metadata": {},
     "output_type": "display_data"
    }
   ],
   "source": [
    "%%manim -qm -v WARNING ParametricCircle\n",
    "\n",
    "class ParametricCircle(Scene):\n",
    "    \n",
    "    def alpha(self, t):\n",
    "        return np.array([np.cos(t), np.sin(t), 0])\n",
    "    \n",
    "    def construct(self):\n",
    "        circle = ParametricFunction(self.alpha,\n",
    "                                    t_range=np.array([0, 2*PI]),\n",
    "                                    fill_opacity=0).set_color(RED)\n",
    "        self.add(circle.scale(3))"
   ]
  },
  {
   "cell_type": "markdown",
   "metadata": {},
   "source": [
    "Vamos por partes. Primeiro, observe que importamos todas as funções do *namespace* da `Manim`. Isso, em geral, não é considerado uma boa prática em `Python`. Entretanto, como vamos utilizar **muitos** objetos definidos nessa biblioteca, esse é o jeito recomendado de utilizá-la.\n",
    "\n",
    "Ignorando a primeira linha da célula anterior, vemos que nela definimos a classe `ParametricCircle`, que herda de `Scene`, a qual já é definida pela `Manim`.\n",
    "\n",
    "Esse é o jeito padrão de criar animações. Cria-se uma classe com o nome que se quiser, a qual herda de `Scene`. O vídeo a ser renderizado é a sua \"cena\", e precisamos instruir a `Manim` sobre como construí-la. Isso é feito pelo método `construct` da classe.\n",
    "\n",
    "Nele, criamos `circle`, um `Mobject` (*Mathematical Object* dentro do jargão da `Manim`).\n",
    "Esse `Mobject` em específico é uma `ParametricFunction`. Com ele, conseguimos desenhar o traço de uma curva paramétrica especificada por uma função.\n",
    "\n",
    "Essa função é o método `alpha` da nossa classe. Ele recebe o tempo como argumento e retorna um *array* com as coordenadas do ponto correspondente, de acordo com a formulação paramétrica do círculo dada anteriormente.\n",
    "\n",
    "Uma peculiaridade da `Manim` é que, mesmo se tratando de uma figura 2D, precisamos especificar três coordenadas. Poderíamos ter passado qualquer coisa como terceira coordenada, mas, por convenção, colocamos $0$.\n",
    "\n",
    "Por fim, precisamos adicionar esse objeto recém criado à nossa cena. Isso é feito com o método `add`, o qual já é implementado pela própria `Manim`.\n",
    "\n",
    "Agora, vamos voltar à primeira linha. Normalmente (fora de um *notebook*), você teria um arquivo `.py` (`curve.py`, por exemplo) no qual escreveria todo o código abaixo da primeira linha da célula anterior e, então, no terminal, executaria o comando\n",
    "\n",
    "> `manim -qm -v WARNING ParametricCircle`\n",
    "\n",
    "Isso faria com que seu *video player* padrão fosse aberto com a imagem acima. Como estamos em um notebook, vamos utilizar esse *magic command* implementado pela `Manim`, para fazer a animação aparecer aqui mesmo.\n"
   ]
  },
  {
   "cell_type": "markdown",
   "metadata": {},
   "source": [
    "#### AVISO\n",
    "\n",
    "**Como não será possível explicar em detalhes tudo o que utilizaremos dessa biblioteca, recomendo fortemente que o leitor desse *notebook* leita o tutorial [Quickstart](https://docs.manim.community/en/stable/tutorials/quickstart.html#overview) e, caso tenha dúvidas ao longo do caminho, consulte o [Manual de Referência](https://docs.manim.community/en/stable/reference.html#).**"
   ]
  },
  {
   "cell_type": "code",
   "execution_count": null,
   "metadata": {},
   "outputs": [],
   "source": []
  }
 ],
 "metadata": {
  "kernelspec": {
   "display_name": "Python 3 (ipykernel)",
   "language": "python",
   "name": "python3"
  },
  "language_info": {
   "codemirror_mode": {
    "name": "ipython",
    "version": 3
   },
   "file_extension": ".py",
   "mimetype": "text/x-python",
   "name": "python",
   "nbconvert_exporter": "python",
   "pygments_lexer": "ipython3",
   "version": "3.8.10"
  }
 },
 "nbformat": 4,
 "nbformat_minor": 4
}
