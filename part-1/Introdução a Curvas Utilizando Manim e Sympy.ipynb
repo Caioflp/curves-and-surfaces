{
 "cells": [
  {
   "cell_type": "markdown",
   "metadata": {},
   "source": [
    "# Introdução a Curvas Utilizando Manim e Sympy\n",
    "\n"
   ]
  },
  {
   "cell_type": "markdown",
   "metadata": {},
   "source": [
    "**Autor**: Caio Lins\n",
    "\n",
    "Este trabalho tem como objetivo introduzir conceitos da teoria de curvas planas e espaciais, utilizando as bibliotecas `Sympy` e `Manim` da linguagem de programação `Python`.\n",
    "\n",
    "Ele está organizado nos seguintes tópicos:\n",
    "\n",
    "* Ambiente Computacional\n",
    "* Teoria de Curvas\n",
    "    - O que é uma curva?\n",
    "    - Velocidade e aceleração\n",
    "    - Comprimento de arco e reparametrizações\n",
    "    - Curvas em R<sup>3</sup>\n",
    "    - Referências\n"
   ]
  },
  {
   "cell_type": "markdown",
   "metadata": {},
   "source": [
    "## Ambiente Computacional\n",
    "\n",
    "Utilizaremos a linguagem Python 3. A versão específica utilizada na elaboração desse documento é a 3.8.10.\n",
    "\n",
    "A biblioteca [`Sympy`](https://www.sympy.org/en/index.html) permite a realização de cálculos simbólicos dentro de `Python` e será utilizada para computar algumas derivadas e integrais inerentes ao estudo da Geometria Diferencial.\n",
    "\n",
    "Por outro lado, a biblioteca [`Manim`](https://docs.manim.community/en/stable/index.html) facilita imensamente a criação de animações envolvendo objetos matemáticos.\n",
    "Ela surgiu como um projeto pessoal do YouTuber, e graduado em Matemática e Ciência da Computação por Stanford, Grant Sanderson, em seu (excelente!) canal [3Blue1Brown](https://www.youtube.com/c/3blue1brown).\n",
    "Atualmente, ela é mantida como um projeto da comunidade.\n",
    "\n",
    "Nos links acima é possível encontrar instruções para realizar a instalação de ambas bibliotecas.\n",
    "Para a `Manim`, recomendamos instalá-la localmente, junto com todas as dependências listadas (opcionais e obrigatórias).\n",
    "\n",
    "Caso não queira fazer isso no momento, uma opção é abrir esse notebook no Google Colab e executar a célula seguinte:"
   ]
  },
  {
   "cell_type": "code",
   "execution_count": 1,
   "metadata": {},
   "outputs": [
    {
     "name": "stdout",
     "output_type": "stream",
     "text": [
      "Not running on Colab\n"
     ]
    }
   ],
   "source": [
    "## Execute only when in colab\n",
    "\n",
    "if 'google.colab' in str(get_ipython()):\n",
    "    print('Running on Colab\\n')\n",
    "    !git clone https://github.com/Caioflp/curves-and-surfaces.git\n",
    "    %cd curves-and-surfaces/part-1\n",
    "    # !rm 'Introdução a Curvas Utilizando Manim e Sympy.ipynb'\n",
    "    !sudo apt update\n",
    "    !sudo apt install libcairo2-dev ffmpeg \\\n",
    "        texlive texlive-latex-extra texlive-fonts-extra \\\n",
    "        texlive-latex-recommended texlive-science \\\n",
    "        tipa libpango1.0-dev\n",
    "    !pip install manim\n",
    "    !pip install IPython --upgrade\n",
    "    !pip install sympy\n",
    "else:\n",
    "    print('Not running on Colab')"
   ]
  },
  {
   "cell_type": "markdown",
   "metadata": {},
   "source": [
    "A formatação desse caderno é retirada do curso [Practical Numerical Methods with Python](https://github.com/numerical-mooc/numerical-mooc), com código licenciado sob a MIT license (c) 2014 L.A. Barba, C. Cooper, G.F. Forsyth, A. Krishnan. Para carrega-lá, basta executar a célula seguinte."
   ]
  },
  {
   "cell_type": "code",
   "execution_count": 2,
   "metadata": {},
   "outputs": [
    {
     "data": {
      "text/html": [
       "<link href='http://fonts.googleapis.com/css?family=Alegreya+Sans:100,300,400,500,700,800,900,100italic,300italic,400italic,500italic,700italic,800italic,900italic' rel='stylesheet' type='text/css'>\n",
       "<link href='http://fonts.googleapis.com/css?family=Arvo:400,700,400italic' rel='stylesheet' type='text/css'>\n",
       "<link href='http://fonts.googleapis.com/css?family=PT+Mono' rel='stylesheet' type='text/css'>\n",
       "<link href='http://fonts.googleapis.com/css?family=Shadows+Into+Light' rel='stylesheet' type='text/css'>\n",
       "<link href='http://fonts.googleapis.com/css?family=Nixie+One' rel='stylesheet' type='text/css'>\n",
       "<link href='https://fonts.googleapis.com/css?family=Source+Code+Pro' rel='stylesheet' type='text/css'>\n",
       "<link href=\"https://fonts.googleapis.com/css2?family=Fira+Mono&display=swap\" rel=\"stylesheet\"> \n",
       "<link href=\"https://fonts.googleapis.com/css2?family=Fira+Code:wght@300;400;500;600;700&family=Fira+Mono:wght@400;500;700&display=swap\" rel=\"stylesheet\"> \n",
       "<style>\n",
       "\n",
       "@font-face {\n",
       "    font-family: \"Computer Modern\";\n",
       "    src: url('http://mirrors.ctan.org/fonts/cm-unicode/fonts/otf/cmunss.otf');\n",
       "}\n",
       "\n",
       "#notebook_panel { /* main background */\n",
       "    background: rgb(245,245,245);\n",
       "}\n",
       "\n",
       "div.cell { /* set cell width */\n",
       "    width: 750px;\n",
       "}\n",
       "\n",
       "div #notebook { /* centre the content */\n",
       "    background: #fff; /* white background for content */\n",
       "    width: 1000px;\n",
       "    margin: auto;\n",
       "    padding-left: 0em;\n",
       "}\n",
       "\n",
       "#notebook li { /* More space between bullet points */\n",
       "    margin-top:0.8em;\n",
       "}\n",
       "\n",
       "/* draw border around running cells */\n",
       "div.cell.border-box-sizing.code_cell.running { \n",
       "    border: 1px solid #111;\n",
       "}\n",
       "\n",
       "/* Put a solid color box around each cell and its output, visually linking them*/\n",
       "div.cell.code_cell {\n",
       "    background-color: rgb(256,256,256); \n",
       "    border-radius: 0px; \n",
       "    padding: 0.5em;\n",
       "    margin-left:1em;\n",
       "    margin-top: 1em;\n",
       "}\n",
       "\n",
       "div.text_cell_render{\n",
       "    font-family: 'Alegreya Sans' sans-serif;\n",
       "    line-height: 140%;\n",
       "    font-size: 125%;\n",
       "    font-weight: 400;\n",
       "    width:600px;\n",
       "    margin-left:auto;\n",
       "    margin-right:auto;\n",
       "}\n",
       "\n",
       "\n",
       "/* Formatting for header cells */\n",
       ".text_cell_render h1 {\n",
       "    font-family: 'Nixie One', serif;\n",
       "    font-style:regular;\n",
       "    font-weight: 400;    \n",
       "    font-size: 45pt;\n",
       "    line-height: 100%;\n",
       "    color: rgb(0,51,102);\n",
       "    margin-bottom: 0.5em;\n",
       "    margin-top: 0.5em;\n",
       "    display: block;\n",
       "}\n",
       "\n",
       ".text_cell_render h2 {\n",
       "    font-family: 'Nixie One', serif;\n",
       "    font-weight: 400;\n",
       "    font-size: 30pt;\n",
       "    line-height: 100%;\n",
       "    color: rgb(0,51,102);\n",
       "    margin-bottom: 0.1em;\n",
       "    margin-top: 0.3em;\n",
       "    display: block;\n",
       "}\t\n",
       "\n",
       ".text_cell_render h3 {\n",
       "    font-family: 'Nixie One', serif;\n",
       "    margin-top:16px;\n",
       "    font-size: 22pt;\n",
       "    font-weight: 600;\n",
       "    margin-bottom: 3px;\n",
       "    font-style: regular;\n",
       "    color: rgb(102,102,0);\n",
       "}\n",
       "\n",
       ".text_cell_render h4 {    /*Use this for captions*/\n",
       "    font-family: 'Nixie One', serif;\n",
       "    font-size: 14pt;\n",
       "    text-align: center;\n",
       "    margin-top: 0em;\n",
       "    margin-bottom: 0.8em;\n",
       "    font-style: regular;\n",
       "}\n",
       "\n",
       ".text_cell_render h5 {  /*Use this for small titles*/\n",
       "    font-family: 'Nixie One', sans-serif;\n",
       "    font-weight: 400;\n",
       "    font-size: 16pt;\n",
       "    color: rgb(163,0,0);\n",
       "    font-style: italic;\n",
       "    margin-bottom: .1em;\n",
       "    margin-top: 0.8em;\n",
       "    display: block;\n",
       "}\n",
       "\n",
       ".text_cell_render h6 { /*use this for copyright note*/\n",
       "    font-family: 'PT Mono', sans-serif;\n",
       "    font-weight: 300;\n",
       "    font-size: 9pt;\n",
       "    line-height: 100%;\n",
       "    color: grey;\n",
       "    margin-bottom: 1px;\n",
       "    margin-top: 1px;\n",
       "}\n",
       "\n",
       ".CodeMirror{\n",
       "    font-family: \"Fira Code\";\n",
       "    font-size: 100%;\n",
       "}\n",
       "\n",
       ".alert-box {\n",
       "    padding:10px 10px 10px 36px;\n",
       "    margin:5px;\n",
       "}\n",
       "\n",
       ".success {\n",
       "    color:#666600;\n",
       "    background:rgb(240,242,229);\n",
       "}\n",
       "</style>\n",
       "<script>\n",
       "    MathJax.Hub.Config({\n",
       "                        TeX: {\n",
       "                            extensions: [\"AMSmath.js\"],\n",
       "                            equationNumbers: { autoNumber: \"AMS\", useLabelIds: true}\n",
       "                            },\n",
       "                        tex2jax: {\n",
       "                            inlineMath: [ ['$','$'], [\"\\\\(\",\"\\\\)\"] ],\n",
       "                            displayMath: [ ['$$','$$'], [\"\\\\[\",\"\\\\]\"] ]\n",
       "                            },\n",
       "                        displayAlign: 'center', // Change this to 'center' to center equations.\n",
       "                        \"HTML-CSS\": {\n",
       "                            styles: {'.MathJax_Display': {\"margin\": 4}}\n",
       "                            }\n",
       "                        });\n",
       "    MathJax.Hub.Queue(\n",
       "                      [\"resetEquationNumbers\", MathJax.InputJax.TeX],\n",
       "                      [\"PreProcess\", MathJax.Hub],\n",
       "                      [\"Reprocess\", MathJax.Hub]\n",
       "                     );\n",
       "</script>\n"
      ],
      "text/plain": [
       "<IPython.core.display.HTML object>"
      ]
     },
     "execution_count": 2,
     "metadata": {},
     "output_type": "execute_result"
    }
   ],
   "source": [
    "# Load notebook style\n",
    "from IPython.core.display import HTML\n",
    "from os import getcwd\n",
    "css_file = f'{getcwd()}/../styles/numericalmoocstyle.css'\n",
    "HTML(open(css_file, 'r').read())"
   ]
  },
  {
   "cell_type": "markdown",
   "metadata": {},
   "source": [
    "## Teoria de Curvas"
   ]
  },
  {
   "cell_type": "markdown",
   "metadata": {},
   "source": [
    "### O que é uma curva?\n",
    "\n",
    "Seja $I \\subset \\mathbb{R}$ um intervalo aberto.\n",
    "Uma aplicação diferenciável (aqui, diferenciável significa $C^\\infty$)\n",
    "$$\n",
    "    \\alpha : I \\to \\mathbb{R}^n\n",
    "$$\n",
    "é dita uma *curva parametrizada diferenciável*, ou, simplesmente *curva* (esses termos serão usados como sinônimos nesse tutorial).\n",
    "Seu conjunto imagem, denotado por $\\alpha(I) \\subset \\mathbb{R}^n$, é denominado *traço* de $\\alpha$.\n",
    "\n",
    "Em particular, caso $n = 2$, a função $\\alpha$ pode ser escrita como\n",
    "$$\n",
    "    \\alpha(t) = ( x(t), y(t) ),\n",
    "$$\n",
    "Onde $x, y : I \\to \\mathbb{R}$ são diferenciáveis.\n",
    "Similarmente, se $n = 3$:\n",
    "$$\n",
    "    \\alpha(t) = ( x(t), y(t), z(t) ).\n",
    "$$"
   ]
  },
  {
   "cell_type": "markdown",
   "metadata": {},
   "source": [
    "#### Exemplo: O círculo"
   ]
  },
  {
   "cell_type": "markdown",
   "metadata": {},
   "source": [
    "Seja $S^1 \\subset \\mathbb{R^2}$ o círculo unitário centrado na origem:\n",
    "$$\n",
    "    S^1 = \\{ (x, y) \\in \\mathbb{R}^2 : x^2 + y^2 = 1 \\}\n",
    "$$\n",
    "Perceba que $S^1$ é o traço da curva $\\alpha : [0, 2 \\pi] \\to \\mathbb{R}^2$ dada por\n",
    "$$\n",
    "    \\alpha (t) = (\\cos t, \\sin t).\n",
    "$$\n",
    "\n",
    "Vamos desenhar esse objeto utilizando a `Manim`. Primeiro, apresentaremos o código e, em seguida, explicaremos seus principais elementos."
   ]
  },
  {
   "cell_type": "code",
   "execution_count": 1,
   "metadata": {},
   "outputs": [
    {
     "data": {
      "text/html": [
       "<pre style=\"white-space:pre;overflow-x:auto;line-height:normal;font-family:Menlo,'DejaVu Sans Mono',consolas,'Courier New',monospace\">Manim Community <span style=\"color: #008000; text-decoration-color: #008000\">v0.15.1</span>\n",
       "\n",
       "</pre>\n"
      ],
      "text/plain": [
       "Manim Community \u001b[32mv0.\u001b[0m\u001b[32m15.1\u001b[0m\n",
       "\n"
      ]
     },
     "metadata": {},
     "output_type": "display_data"
    }
   ],
   "source": [
    "import numpy as np\n",
    "from manim import *"
   ]
  },
  {
   "cell_type": "code",
   "execution_count": 4,
   "metadata": {},
   "outputs": [
    {
     "data": {
      "image/png": "[encoded data removed]",
      "text/plain": [
       "<IPython.core.display.Image object>"
      ]
     },
     "metadata": {},
     "output_type": "display_data"
    }
   ],
   "source": [
    "%%manim -qh -v WARNING ParametricCircle\n",
    "\n",
    "class ParametricCircle(Scene):\n",
    "    \n",
    "    def construct(self):\n",
    "        \n",
    "        def alpha(t):\n",
    "            return np.array([np.cos(t), np.sin(t), 0])\n",
    "    \n",
    "        circle = ParametricFunction(alpha,\n",
    "                                    t_range=np.array([0, 2*PI]),\n",
    "                                    fill_opacity=0).set_color(RED)\n",
    "        self.add(circle)"
   ]
  },
  {
   "cell_type": "markdown",
   "metadata": {},
   "source": [
    "Vamos por partes. Primeiro, observe que importamos todas as funções do *namespace* da `Manim`. Isso, em geral, não é considerado uma boa prática em `Python`. Entretanto, como vamos utilizar **muitos** objetos definidos nessa biblioteca, esse é o jeito recomendado de utilizá-la.\n",
    "\n",
    "Ignorando a primeira linha da célula anterior, vemos que nela definimos a classe `ParametricCircle`, que herda de `Scene`, a qual já é definida pela `Manim`.\n",
    "\n",
    "Esse é o jeito padrão de criar animações. Cria-se uma classe com o nome que se quiser, a qual herda de `Scene`. O vídeo a ser renderizado é a sua \"cena\", e precisamos instruir a `Manim` sobre como construí-la. Isso é feito pelo método `construct` da classe.\n",
    "\n",
    "Nele, criamos `circle`, um `Mobject` (*Mathematical Object*, dentro do jargão da `Manim`).\n",
    "Esse `Mobject` em específico é uma `ParametricFunction`. Com ele, conseguimos desenhar o traço de uma curva paramétrica especificada por uma função.\n",
    "\n",
    "Essa função é `alpha`, criada dentro do método `construct` da nossa classe. Ela recebe o tempo como argumento e retorna um *array* com as coordenadas do ponto correspondente, de acordo com a formulação paramétrica do círculo dada anteriormente.\n",
    "\n",
    "Uma peculiaridade da `Manim` é que, mesmo se tratando de uma figura 2D, precisamos especificar três coordenadas. Poderíamos ter passado qualquer coisa como terceira coordenada, mas, por convenção, colocamos $0$.\n",
    "\n",
    "Por fim, precisamos adicionar esse objeto recém criado à nossa cena. Isso é feito com o método `add`, o qual já é implementado pela própria `Manim`.\n",
    "\n",
    "Agora, vamos voltar à primeira linha. Normalmente (fora de um *notebook*), você teria um arquivo `.py` (`curve.py`, por exemplo) no qual escreveria todo o código abaixo da primeira linha da célula anterior e, então, no terminal, executaria o comando\n",
    "\n",
    "> `manim -qm -v WARNING curves.py ParametricCircle`\n",
    "\n",
    "Isso faria com que seu *video player* padrão fosse aberto com a imagem acima. Como estamos em um notebook, vamos utilizar esse *magic command* implementado pela `Manim`, para fazer a animação aparecer aqui mesmo.\n"
   ]
  },
  {
   "cell_type": "markdown",
   "metadata": {},
   "source": [
    "##### AVISO\n",
    "\n",
    "**Como não será possível explicar em detalhes tudo o que utilizaremos dessa biblioteca, recomendo fortemente que o leitor desse *notebook* leita o tutorial [Quickstart](https://docs.manim.community/en/stable/tutorials/quickstart.html#overview) e, caso tenha dúvidas ao longo do caminho, consulte o [Manual de Referência](https://docs.manim.community/en/stable/reference.html#).**"
   ]
  },
  {
   "cell_type": "markdown",
   "metadata": {},
   "source": [
    "A vantagem de utilizar a `Manim`, é que podemos criar animações. Portanto, gostaríamos de poder observar o círculo sendo construído de acordo com a parametrização $\\alpha (t)$.\n",
    "Infelizmente, não há como fazer isso de forma nativa na biblioteca. Vamos ter que ser um pouco mais criativos."
   ]
  },
  {
   "cell_type": "code",
   "execution_count": 5,
   "metadata": {},
   "outputs": [
    {
     "name": "stderr",
     "output_type": "stream",
     "text": [
      "                                                                        \r"
     ]
    },
    {
     "data": {
      "text/html": [
       "<video src=\"media/jupyter/ParametricCircle@2022-04-04@00-44-49.mp4\" controls autoplay loop style=\"max-width: 60%;\"  >\n",
       "      Your browser does not support the <code>video</code> element.\n",
       "    </video>"
      ],
      "text/plain": [
       "<IPython.core.display.Video object>"
      ]
     },
     "metadata": {},
     "output_type": "display_data"
    }
   ],
   "source": [
    "%%manim -qh -v WARNING ParametricCircle\n",
    "\n",
    "class ParametricCircle(Scene):\n",
    "    \n",
    "    def construct(self):\n",
    "        \n",
    "        init_t = 0\n",
    "        \n",
    "        # Utilizamos esse tracker para obter o tempo total passado\n",
    "        # desde o início da animação\n",
    "        time = ValueTracker(value=init_t)\n",
    "        \n",
    "        def time_update(mobject, dt):\n",
    "            mobject.increment_value(dt)\n",
    "            \n",
    "        # Atualiza o valor do tempo a cada frame\n",
    "        time.add_updater(update_function=time_update)\n",
    "        \n",
    "        def alpha(t):\n",
    "            return np.array([np.cos(t), np.sin(t), 0])\n",
    "        \n",
    "        # Calcula onde o ponto deve começar\n",
    "        start = alpha(0)\n",
    "        dot = Dot(point=start, color=RED)\n",
    "        \n",
    "        def dot_update(mobject):\n",
    "            t = time.get_value()\n",
    "            mobject.move_to(alpha(t))\n",
    "        \n",
    "        # Atualiza a posição do dot a cada frame\n",
    "        dot.add_updater(update_function=dot_update)\n",
    "        \n",
    "        # Desenha o traço da curva com base no dot\n",
    "        trace = TracedPath(traced_point_func=dot.get_center,\n",
    "                           stroke_width=3,\n",
    "                           stroke_color=RED)\n",
    "        \n",
    "        number_plane = NumberPlane(\n",
    "            x_range=[-10, 10, 1],\n",
    "            y_range=[-10, 10, 1],\n",
    "            background_line_style={\n",
    "                \"stroke_color\": TEAL,\n",
    "                \"stroke_width\": 4,\n",
    "                \"stroke_opacity\": 0.4\n",
    "            }\n",
    "        )\n",
    "        \n",
    "        self.add(number_plane, time, dot, trace)\n",
    "        \n",
    "        self.wait(2 * PI)"
   ]
  },
  {
   "cell_type": "markdown",
   "metadata": {},
   "source": [
    "O código acima é bem mais complexo que o primeiro, então gaste algum tempo lendo a documentação dos métodos utilizados e tentando entendê-lo.\n",
    "Em especial, leia a documentação de [add_updater](https://docs.manim.community/en/stable/reference/manim.mobject.mobject.Mobject.html#manim.mobject.mobject.Mobject.add_updater).\n",
    "\n",
    "A ideia é criar objetos cuja posição pode ser recalculada a cada frame da imagem utilizando, nesse cálculo, o tempo passado desde o início da animação. Então, realizamos um `wait`, o qual geralmente é utilizado para fazer pausas em animações, mas que nós estamos utilizando para deixar o tempo passar, e assim, fazer com que o `dot` se mova na velocidade especicada pela função `alpha`."
   ]
  },
  {
   "cell_type": "markdown",
   "metadata": {},
   "source": [
    "#### Exemplo: Reta\n",
    "\n",
    "Uma reta em $\\mathbb{R}^2$ é definida por meio de um ponto inicial $p$ e um vetor diretor $v$.\n",
    "O traço da curva $\\alpha : \\mathbb{R} \\to \\mathbb{R}^2$ dada por\n",
    "$$\n",
    "    \\alpha (t) = p + tv\n",
    "$$\n",
    "é a reta que passa por $p$ e é paralela a $v$.\n",
    "\n",
    "Vamos animar essa curva."
   ]
  },
  {
   "cell_type": "code",
   "execution_count": 6,
   "metadata": {},
   "outputs": [
    {
     "name": "stderr",
     "output_type": "stream",
     "text": [
      "                                                                        \r"
     ]
    },
    {
     "data": {
      "text/html": [
       "<video src=\"media/jupyter/ParametricLine@2022-04-04@00-44-54.mp4\" controls autoplay loop style=\"max-width: 60%;\"  >\n",
       "      Your browser does not support the <code>video</code> element.\n",
       "    </video>"
      ],
      "text/plain": [
       "<IPython.core.display.Video object>"
      ]
     },
     "metadata": {},
     "output_type": "display_data"
    }
   ],
   "source": [
    "%%manim -qh -v WARNING ParametricLine\n",
    "\n",
    "class ParametricLine(Scene):\n",
    "    \n",
    "    def construct(self):\n",
    "        \n",
    "        p = np.array([-2.5, -0.5, 0])\n",
    "        v = np.array([5.0, 1.0, 0])\n",
    "        v /= np.linalg.norm(v)\n",
    "        \n",
    "        init_t = 0\n",
    "        \n",
    "        # Utilizamos esse tracker para obter o tempo total passado\n",
    "        # desde o início da animação\n",
    "        time = ValueTracker(value=init_t)\n",
    "        \n",
    "        def time_update(mobject, dt):\n",
    "            mobject.increment_value(dt)\n",
    "            \n",
    "        # Atualiza o valor do tempo a cada frame\n",
    "        time.add_updater(update_function=time_update)\n",
    "        \n",
    "        def alpha(t):\n",
    "            return p + t*v\n",
    "        \n",
    "        # Calcula onde o ponto deve começar\n",
    "        start = alpha(0)\n",
    "        dot = Dot(point=start, color=RED)\n",
    "        \n",
    "        def dot_update(mobject):\n",
    "            t = time.get_value()\n",
    "            mobject.move_to(alpha(t))\n",
    "        \n",
    "        # Atualiza a posição do dot a cada frame\n",
    "        dot.add_updater(update_function=dot_update)\n",
    "        \n",
    "        # Desenha o traço da curva com base no dot\n",
    "        trace = TracedPath(traced_point_func=dot.get_center,\n",
    "                           stroke_width=3,\n",
    "                           stroke_color=RED)\n",
    "        \n",
    "        number_plane = NumberPlane(\n",
    "            x_range=[-10, 10, 1],\n",
    "            y_range=[-10, 10, 1],\n",
    "            background_line_style={\n",
    "                \"stroke_color\": TEAL,\n",
    "                \"stroke_width\": 4,\n",
    "                \"stroke_opacity\": 0.4\n",
    "            }\n",
    "        )\n",
    "        \n",
    "        self.add(number_plane, time, dot, trace)\n",
    "        \n",
    "        self.wait(5)"
   ]
  },
  {
   "cell_type": "markdown",
   "metadata": {},
   "source": [
    "### Velocidade e aceleração\n",
    "\n",
    "Exigimos a diferenciabilidade das nossas curvas para que pudéssemos derivá-las. Nesse sentido, dada uma curva $\\alpha : I \\subset \\mathbb{R} \\to \\mathbb{R}^n$, definimos os seus vetores *velocidade* e *aceleração* como $\\alpha' : I \\to \\mathbb{R}^n$ e $\\alpha'' : I \\to \\mathbb{R}^n$, respectivamente."
   ]
  },
  {
   "cell_type": "markdown",
   "metadata": {},
   "source": [
    "#### Sympy\n",
    "\n",
    "No exemplo que vimos anteriormente, facilmente podemos calcular manualmente $\\alpha' (t) = (- \\sin t, \\cos t)$. Entretanto, nem sempre há essa facilidade, principalmente quando formos calcular o comprimento de arco de curvas.\n",
    "Portanto, vamos utilizar a biblioteca `Sympy` para nos auxiliar."
   ]
  },
  {
   "cell_type": "code",
   "execution_count": 3,
   "metadata": {},
   "outputs": [],
   "source": [
    "import sympy as sp"
   ]
  },
  {
   "cell_type": "markdown",
   "metadata": {},
   "source": [
    "Recomendamos a leitura do [tutorial](https://docs.sympy.org/latest/tutorial/index.html#tutorial) para ter uma visão mais ampla das funcionalidades dessa biblioteca. Aqui, utilizaremos apenas o básico.\n",
    "\n",
    "Definimos variáveis como a seguir:"
   ]
  },
  {
   "cell_type": "code",
   "execution_count": 8,
   "metadata": {},
   "outputs": [],
   "source": [
    "t = sp.Symbol(\"t\")"
   ]
  },
  {
   "cell_type": "markdown",
   "metadata": {},
   "source": [
    "E, a partir daí, podemos fazer contas com essa variável:"
   ]
  },
  {
   "cell_type": "code",
   "execution_count": 9,
   "metadata": {},
   "outputs": [
    {
     "data": {
      "text/plain": [
       "(cos(t), sin(t))"
      ]
     },
     "execution_count": 9,
     "metadata": {},
     "output_type": "execute_result"
    }
   ],
   "source": [
    "x_sym = sp.cos(t) # sym for symbolic\n",
    "y_sym = sp.sin(t)\n",
    "x_sym, y_sym"
   ]
  },
  {
   "cell_type": "markdown",
   "metadata": {},
   "source": [
    "Para diferenciar, fazemos"
   ]
  },
  {
   "cell_type": "code",
   "execution_count": 10,
   "metadata": {},
   "outputs": [
    {
     "data": {
      "text/plain": [
       "(-sin(t), cos(t))"
      ]
     },
     "execution_count": 10,
     "metadata": {},
     "output_type": "execute_result"
    }
   ],
   "source": [
    "dx_sym = sp.diff(x_sym, t)\n",
    "dy_sym = sp.diff(y_sym, t)\n",
    "dx_sym, dy_sym"
   ]
  },
  {
   "cell_type": "markdown",
   "metadata": {},
   "source": [
    "Para obter a aceleração:"
   ]
  },
  {
   "cell_type": "code",
   "execution_count": 11,
   "metadata": {},
   "outputs": [
    {
     "data": {
      "text/plain": [
       "(-cos(t), -sin(t))"
      ]
     },
     "execution_count": 11,
     "metadata": {},
     "output_type": "execute_result"
    }
   ],
   "source": [
    "ddx_sym = sp.diff(dx_sym, t)\n",
    "ddy_sym = sp.diff(dy_sym, t)\n",
    "ddx_sym, ddy_sym"
   ]
  },
  {
   "cell_type": "markdown",
   "metadata": {},
   "source": [
    "Com isso, conseguimos calcular os vetores velocidade e aceleração para todas as curvas que exploraremos nesse tutorial.\n",
    "\n",
    "Entretanto, um problema que precisamos resolver para integrar `Sympy` e `Manim` é que, como vimos anteriormente, precisamos de passar uma função *numérica* como updater para o `dot` quando estamos construindo a animação.\n",
    "Felizmente, o `Sympy` possui uma forma de converter uma função simbólica em uma numérica, que recebe um `float` como argumento.\n",
    "\n",
    "Isso é feito da seguinte forma:"
   ]
  },
  {
   "cell_type": "code",
   "execution_count": 12,
   "metadata": {},
   "outputs": [
    {
     "data": {
      "text/plain": [
       "[6.123233995736766e-17, 1.0]"
      ]
     },
     "execution_count": 12,
     "metadata": {},
     "output_type": "execute_result"
    }
   ],
   "source": [
    "x = sp.lambdify(t, x_sym, \"numpy\") # Retorna uma função numpy\n",
    "y = sp.lambdify(t, y_sym, \"numpy\")\n",
    "\n",
    "[x(np.pi/2), y(np.pi/2)]"
   ]
  },
  {
   "cell_type": "markdown",
   "metadata": {},
   "source": [
    "#### Exemplo: Parábola\n",
    "\n",
    "Vamos animar agora a curva $\\alpha : I \\to \\mathbb{R}$ dada por\n",
    "$$\n",
    "    \\alpha (t) = (t, t^2 - 3)\n",
    "$$\n",
    "que corresponde ao gráfico de uma parábola, utilizando `Sympy`.\n",
    "Dessa vez, vamos incluir seu vetor velocidade."
   ]
  },
  {
   "cell_type": "code",
   "execution_count": 4,
   "metadata": {},
   "outputs": [
    {
     "name": "stderr",
     "output_type": "stream",
     "text": [
      "/home/caiolins/.local/lib/python3.8/site-packages/manim/mobject/value_tracker.py:74: DeprecationWarning: This method is not guaranteed to stay around. Please prefer setting the attribute normally or with Mobject.set().\n",
      "  self.set_points(np.zeros((1, 3)))\n",
      "                                                                        \r"
     ]
    },
    {
     "data": {
      "text/html": [
       "<video src=\"media/jupyter/ParametricParabola@2022-04-04@08-59-04.mp4\" controls autoplay loop style=\"max-width: 60%;\"  >\n",
       "      Your browser does not support the <code>video</code> element.\n",
       "    </video>"
      ],
      "text/plain": [
       "<IPython.core.display.Video object>"
      ]
     },
     "metadata": {},
     "output_type": "display_data"
    }
   ],
   "source": [
    "%%manim -qh -v WARNING ParametricParabola\n",
    "\n",
    "class ParametricParabola(Scene):\n",
    "    \n",
    "    def construct(self):\n",
    "        \n",
    "        t = sp.Symbol(\"t\")\n",
    "        x_sym = t\n",
    "        y_sym = t**2 - 3\n",
    "        dx_sym = sp.diff(x_sym, t)\n",
    "        dy_sym = sp.diff(y_sym, t)\n",
    "        \n",
    "        x = sp.lambdify(t, x_sym, \"numpy\")\n",
    "        y = sp.lambdify(t, y_sym, \"numpy\")\n",
    "        dx = sp.lambdify(t, dx_sym, \"numpy\")\n",
    "        dy = sp.lambdify(t, dy_sym, \"numpy\")\n",
    "        \n",
    "        \n",
    "        init_t = -3\n",
    "        time = ValueTracker(value=init_t)\n",
    "        \n",
    "        def time_update(mobject, dt):\n",
    "            mobject.increment_value(dt)\n",
    "            \n",
    "        time.add_updater(update_function=time_update)\n",
    "        \n",
    "        \n",
    "        def alpha(t):\n",
    "            return np.array([x(t), y(t), 0])\n",
    "        \n",
    "        start = alpha(0)\n",
    "        dot = Dot(point=start, color=RED)\n",
    "        \n",
    "        def dot_update(mobject):\n",
    "            t = time.get_value()\n",
    "            mobject.move_to(alpha(t))\n",
    "        \n",
    "        dot.add_updater(update_function=dot_update)\n",
    "        \n",
    "        \n",
    "        def velocity(t):\n",
    "            return np.array([dx(t), dy(t), 0])\n",
    "        \n",
    "        velocity_vec = Vector(velocity(init_t), color=RED)\n",
    "        \n",
    "        def velocity_vec_updater(vec, _=None):\n",
    "            t = time.get_value()\n",
    "            start = dot.get_center()\n",
    "            end = start + velocity(t)\n",
    "            vec.put_start_and_end_on(start, end)\n",
    "            \n",
    "        velocity_vec.add_updater(velocity_vec_updater,\n",
    "                                 call_updater=True)\n",
    "        \n",
    "        \n",
    "        trace = TracedPath(traced_point_func=dot.get_center,\n",
    "                           stroke_width=3,\n",
    "                           stroke_color=RED)\n",
    "        \n",
    "        \n",
    "        number_plane = NumberPlane(\n",
    "            x_range=[-10, 10, 1],\n",
    "            y_range=[-10, 10, 1],\n",
    "            background_line_style={\n",
    "                \"stroke_color\": TEAL,\n",
    "                \"stroke_width\": 4,\n",
    "                \"stroke_opacity\": 0.4\n",
    "            }\n",
    "        )\n",
    "        \n",
    "        self.add(number_plane, time, dot, trace, velocity_vec)\n",
    "        \n",
    "        self.wait(6)"
   ]
  },
  {
   "cell_type": "markdown",
   "metadata": {},
   "source": [
    "Agora está ficando mais claro que animar curvas paramétricas respeitando a velocidade imposta pela parametrização não é algo muito trivial na `Manim`. Para facilitar nossa vida e evitar muita repetição de código, vamos importar a classe `Curve2D`, implementada no módulo `Curve2D.py`, que nos permitirá apenas especificar quais as funções (simbólicas!) das coordenadas e obter uma série de objetos para adicionar à nossa animação."
   ]
  },
  {
   "cell_type": "code",
   "execution_count": 6,
   "metadata": {},
   "outputs": [],
   "source": [
    "from Curve2D import Curve2D"
   ]
  },
  {
   "cell_type": "markdown",
   "metadata": {},
   "source": [
    "Para exemplificar o uso dessa classe, vamos refazer a animação anterior:"
   ]
  },
  {
   "cell_type": "code",
   "execution_count": 15,
   "metadata": {},
   "outputs": [
    {
     "name": "stderr",
     "output_type": "stream",
     "text": [
      "/home/caiolins/.local/lib/python3.8/site-packages/manim/mobject/value_tracker.py:74: DeprecationWarning: This method is not guaranteed to stay around. Please prefer setting the attribute normally or with Mobject.set().\n",
      "  self.set_points(np.zeros((1, 3)))\n",
      "                                                                        \r"
     ]
    },
    {
     "data": {
      "text/html": [
       "<video src=\"media/jupyter/ParametricParabola@2022-04-04@00-45-04.mp4\" controls autoplay loop style=\"max-width: 60%;\"  >\n",
       "      Your browser does not support the <code>video</code> element.\n",
       "    </video>"
      ],
      "text/plain": [
       "<IPython.core.display.Video object>"
      ]
     },
     "metadata": {},
     "output_type": "display_data"
    }
   ],
   "source": [
    "%%manim -qh -v WARNING ParametricParabola\n",
    "\n",
    "class ParametricParabola(Scene):\n",
    "    \n",
    "    def construct(self):\n",
    "        \n",
    "        t = sp.Symbol(\"t\")\n",
    "        alpha = [t, t**2-3]\n",
    "        \n",
    "        curve = Curve2D(name=\"alpha\", t=t, vector_sym=alpha,\n",
    "                        init_t=-3, color=RED)\n",
    "        \n",
    "        number_plane = NumberPlane(\n",
    "            x_range=[-10, 10, 1],\n",
    "            y_range=[-10, 10, 1],\n",
    "            background_line_style={\n",
    "                \"stroke_color\": TEAL,\n",
    "                \"stroke_width\": 4,\n",
    "                \"stroke_opacity\": 0.4\n",
    "            }\n",
    "        )\n",
    "        \n",
    "        self.add(number_plane, curve.time_m, curve.dot_m,\n",
    "                 curve.path_m, curve.velocity_m)\n",
    "        \n",
    "        self.wait(6)"
   ]
  },
  {
   "cell_type": "markdown",
   "metadata": {},
   "source": [
    "#### Exemplo: Curva de Lissajous\n",
    "\n",
    "Vamos mostrar outras funcionalidades implementadas na classe `Curve2D` por meio da animação da *curva de Lissajous*. As curvas de Lissajous são dadas por funções paramétricas $\\alpha : I \\to \\mathbb{R}^2$ que são da forma\n",
    "$$\n",
    "    \\alpha (t) = (A \\sin (at + \\delta), B \\sin (bt)).\n",
    "$$\n",
    "\n",
    "No nosso caso, mostraremos o caso em que $ A = B = 1$, $\\delta = \\pi / 2$, $a = 3$ e $b = 2$, ou seja,\n",
    "$$\n",
    "    \\alpha (t) = (\\sin (3t + \\pi / 2), \\sin 2t).\n",
    "$$"
   ]
  },
  {
   "cell_type": "code",
   "execution_count": 16,
   "metadata": {},
   "outputs": [
    {
     "name": "stderr",
     "output_type": "stream",
     "text": [
      "/home/caiolins/.local/lib/python3.8/site-packages/manim/mobject/value_tracker.py:74: DeprecationWarning: This method is not guaranteed to stay around. Please prefer setting the attribute normally or with Mobject.set().\n",
      "  self.set_points(np.zeros((1, 3)))\n",
      "                                                                        \r"
     ]
    },
    {
     "data": {
      "text/html": [
       "<video src=\"media/jupyter/ParametricLissajous@2022-04-04@00-45-05.mp4\" controls autoplay loop style=\"max-width: 60%;\"  >\n",
       "      Your browser does not support the <code>video</code> element.\n",
       "    </video>"
      ],
      "text/plain": [
       "<IPython.core.display.Video object>"
      ]
     },
     "metadata": {},
     "output_type": "display_data"
    }
   ],
   "source": [
    "%%manim -qh -v WARNING ParametricLissajous\n",
    "\n",
    "class ParametricLissajous(Scene):\n",
    "    \n",
    "    def construct(self):\n",
    "        \n",
    "        t = sp.Symbol(\"t\")\n",
    "        alpha = [sp.sin(3*t + PI/2), sp.sin(2*t)]\n",
    "        \n",
    "        scale = 2\n",
    "        speed = 1/scale\n",
    "        init_t = -2 * PI * scale\n",
    "        final_t = 2 * PI * scale\n",
    "        \n",
    "        curve = Curve2D(name=\"alpha\", t=t, vector_sym=alpha,\n",
    "                        init_t=init_t, color=RED, speed=speed,\n",
    "                        scale=scale)\n",
    "        curve.acceleration_m.set_color(BLUE)\n",
    "        \n",
    "        number_plane = NumberPlane(\n",
    "            x_range=[-10, 10, scale],\n",
    "            y_range=[-10, 10, scale],\n",
    "            background_line_style={\n",
    "                \"stroke_color\": TEAL,\n",
    "                \"stroke_width\": 4,\n",
    "                \"stroke_opacity\": 0.4\n",
    "            }\n",
    "        )\n",
    "        \n",
    "        self.add(number_plane, curve.time_m, curve.dot_m,\n",
    "                 curve.path_m, curve.velocity_m,\n",
    "                 curve.acceleration_m, curve.acceleration_name_m,\n",
    "                 curve.velocity_name_m)\n",
    "        \n",
    "        self.wait(final_t)"
   ]
  },
  {
   "cell_type": "markdown",
   "metadata": {},
   "source": [
    "#### Exemplo: Curva de Talbot\n",
    "\n",
    "Outra curva interessante (retirada [deste site](https://mathshistory.st-andrews.ac.uk/Curves/)) é a *Curva de Talbot*.\n",
    "Sua formulação paramétrica é\n",
    "\n",
    "$$\n",
    "    \\alpha (t) = ((a^2 + f^2 (\\sin t)^2) \\cos(t) / a, (a^2 - 2 f^2 + f^2 (\\sin t)^2)\\sin(t) / b),\n",
    "$$\n",
    "\n",
    "Vamos animá-la com os valores $a = 1.1$, $b = 0.666$ e $f = 1$."
   ]
  },
  {
   "cell_type": "code",
   "execution_count": 7,
   "metadata": {},
   "outputs": [
    {
     "name": "stderr",
     "output_type": "stream",
     "text": [
      "/home/caiolins/.local/lib/python3.8/site-packages/manim/mobject/value_tracker.py:74: DeprecationWarning: This method is not guaranteed to stay around. Please prefer setting the attribute normally or with Mobject.set().\n",
      "  self.set_points(np.zeros((1, 3)))\n",
      "                                                                        \r"
     ]
    },
    {
     "data": {
      "text/html": [
       "<video src=\"media/jupyter/ParametricTalbot@2022-04-04@09-01-02.mp4\" controls autoplay loop style=\"max-width: 60%;\"  >\n",
       "      Your browser does not support the <code>video</code> element.\n",
       "    </video>"
      ],
      "text/plain": [
       "<IPython.core.display.Video object>"
      ]
     },
     "metadata": {},
     "output_type": "display_data"
    }
   ],
   "source": [
    "%%manim -qh -v WARNING ParametricTalbot\n",
    "\n",
    "class ParametricTalbot(Scene):\n",
    "    \n",
    "    def construct(self):\n",
    "        \n",
    "        t = sp.Symbol(\"t\")\n",
    "        alpha = [\n",
    "            (1.1**2 + sp.sin(t)**2) * sp.cos(t) / 1.1,\n",
    "            (1.1**2 - 2 + sp.sin(t)**2) * sp.sin(t) / 0.666\n",
    "        ]\n",
    "        \n",
    "        scale = 2\n",
    "        speed = 1/scale\n",
    "        init_t = -PI * scale\n",
    "        final_t = PI * scale\n",
    "        delta_t = final_t - init_t\n",
    "        \n",
    "        curve = Curve2D(name=\"alpha\", t=t, vector_sym=alpha,\n",
    "                        init_t=init_t, color=RED, speed=speed,\n",
    "                        scale=scale)\n",
    "        curve.acceleration_m.set_color(BLUE)\n",
    "        \n",
    "        number_plane = NumberPlane(\n",
    "            x_range=[-10, 10, scale],\n",
    "            y_range=[-10, 10, scale],\n",
    "            background_line_style={\n",
    "                \"stroke_color\": TEAL,\n",
    "                \"stroke_width\": 4,\n",
    "                \"stroke_opacity\": 0.4\n",
    "            }\n",
    "        )\n",
    "        \n",
    "        self.add(number_plane, curve.time_m, curve.dot_m,\n",
    "                 curve.path_m, curve.velocity_m,\n",
    "                 curve.acceleration_m, curve.acceleration_name_m,\n",
    "                 curve.velocity_name_m)\n",
    "        \n",
    "        self.wait(delta_t)"
   ]
  },
  {
   "cell_type": "markdown",
   "metadata": {},
   "source": [
    "#### Exemplo: Curva aleatória\n",
    "\n",
    "[Esse site](http://www.sineofthetimes.org/the-art-of-parametric-equations-2/) também é legal para obter curvas com traços interessantes. Vamos animar uma das curvas encontradas:\n",
    "\n",
    "$$\n",
    "    \\alpha(t) = \\left(\\cos(t), + \\frac{\\cos(6t)}{2} + \\frac{\\sin(14t)}{3}, \\sin(t) + \\frac{\\sin(6t)}{2} + \\frac{\\cos(14t)}{3}\\right)\n",
    "$$"
   ]
  },
  {
   "cell_type": "code",
   "execution_count": 18,
   "metadata": {},
   "outputs": [
    {
     "name": "stderr",
     "output_type": "stream",
     "text": [
      "/home/caiolins/.local/lib/python3.8/site-packages/manim/mobject/value_tracker.py:74: DeprecationWarning: This method is not guaranteed to stay around. Please prefer setting the attribute normally or with Mobject.set().\n",
      "  self.set_points(np.zeros((1, 3)))\n",
      "                                                                        \r"
     ]
    },
    {
     "data": {
      "text/html": [
       "<video src=\"media/jupyter/ParametricTalbot@2022-04-04@00-48-22.mp4\" controls autoplay loop style=\"max-width: 60%;\"  >\n",
       "      Your browser does not support the <code>video</code> element.\n",
       "    </video>"
      ],
      "text/plain": [
       "<IPython.core.display.Video object>"
      ]
     },
     "metadata": {},
     "output_type": "display_data"
    }
   ],
   "source": [
    "%%manim -qh -v WARNING ParametricTalbot\n",
    "\n",
    "class ParametricTalbot(Scene):\n",
    "    \n",
    "    def construct(self):\n",
    "        \n",
    "        t = sp.Symbol(\"t\")\n",
    "        alpha = [\n",
    "            sp.cos(t) + sp.cos(6*t)/2 + sp.sin(14*t)/3,\n",
    "            sp.sin(t) + sp.sin(6*t)/2 + sp.cos(14*t)/3\n",
    "        ]\n",
    "        \n",
    "        scale = 2\n",
    "        speed = .101\n",
    "        init_t = -10 * PI\n",
    "        final_t = 10 * PI\n",
    "        delta_t = final_t - init_t\n",
    "        \n",
    "        curve = Curve2D(name=\"alpha\", t=t, vector_sym=alpha,\n",
    "                        init_t=init_t, color=RED, speed=speed,\n",
    "                        scale=scale)\n",
    "        curve.acceleration_m.set_color(BLUE)\n",
    "        \n",
    "        number_plane = NumberPlane(\n",
    "            x_range=[-10, 10, scale],\n",
    "            y_range=[-10, 10, scale],\n",
    "            background_line_style={\n",
    "                \"stroke_color\": TEAL,\n",
    "                \"stroke_width\": 4,\n",
    "                \"stroke_opacity\": 0.4\n",
    "            }\n",
    "        )\n",
    "        \n",
    "        self.add(number_plane, curve.time_m, curve.dot_m,\n",
    "                 curve.path_m, curve.velocity_m,\n",
    "                 curve.acceleration_m, curve.acceleration_name_m,\n",
    "                 curve.velocity_name_m)\n",
    "        \n",
    "        self.wait(delta_t)"
   ]
  },
  {
   "cell_type": "markdown",
   "metadata": {},
   "source": [
    "### Comprimento de Arco e Reparametrizações"
   ]
  },
  {
   "cell_type": "markdown",
   "metadata": {},
   "source": [
    "Além de derivar nossas curvas, também gostaríamos de medi-las. Entretanto, para isso vamos exigir mais uma característica. Uma curva $\\alpha : I \\to \\mathbb{R}^n$ é dita *regular* se\n",
    "$$\n",
    "    \\alpha' (t) \\neq 0\n",
    "$$\n",
    "para todo $t \\in I$.\n",
    "\n",
    "Com isso, definimos o *comprimento de arco* de uma curva regular $\\alpha$ entre os tempos $a$ e $b$ como\n",
    "$$\n",
    "    L^b_a (\\alpha) =\n",
    "    \\int_a^b | \\alpha' (t) | dt\n",
    "$$\n",
    "Apenas para ver que essa definição faz sentido, vamos calcular o comprimento da circunferência. Sua parametrização é dada por $\\alpha(t) = (\\cos t, \\sin t)$ com $t \\in [0, 2\\pi]$, de modo que $\\alpha' (t) = (-\\sin t, \\cos t)$ e, assim, $|\\alpha' (t)| = \\sqrt{(-\\sin t)^2 + (\\cos t)^2} = \\sqrt{1} = 1$. Portanto:\n",
    "$$\n",
    "    L^b_a (\\alpha) = \\int_0^{2\\pi} dt = 2 \\pi\n",
    "$$\n",
    "\n",
    "Vendo que essa definição faz sentido, definimos agora um tipo de curva parametrizada que é muito útil. Uma curva regular $\\alpha : I \\to \\mathbb{R}^n$ é dita *parametrizada por comprimento de arco* (*unit speed*, ou, apenas, *u.s.*) se $|\\alpha' (t)| = 1$ para todo $t \\in I$."
   ]
  },
  {
   "cell_type": "markdown",
   "metadata": {},
   "source": [
    "#### Difeomorfismos\n",
    "\n",
    "Dados intervalos abertos $I, J$, dizemos que a função $\\varphi : J \\to I$ é um *difeomorfismo* se ela for diferenciável com inversa diferenciável. É uma consequência do *Teorema da Função Inversa* que, sendo este o caso, $\\varphi$ tem derivada não nula em $J$.\n",
    "\n",
    "Difeomorfismos são importantes para *reparametrizar* curvas. Tendo uma curva regular $\\alpha : I \\to \\mathbb{R}^n$ e um difeomormismo $\\varphi : J \\to I$, dizemos que $\\beta = \\alpha \\circ \\varphi$ é uma *reparametrização* da curva $\\alpha$.\n",
    "\n",
    "É interessante perceber que, nessas condições, o comprimento de arco não se altera, no seguinte sentido:\n",
    "$$\n",
    "    L_a^b (\\beta)  = L_{\\varphi(a)}^{\\varphi(b)} (\\alpha)\n",
    "$$\n",
    "\n",
    "De fato:\n",
    "\n",
    "$$\n",
    "    L_a^b (\\beta)\n",
    "    = \\int_a^b |\\beta' (s)| ds\n",
    "    = \\int_a^b |(\\alpha \\circ \\varphi)' (s)| ds\n",
    "    = \\int_a^b |\\alpha' (\\varphi (s)) \\varphi' (s)| ds\n",
    "    = \\int_a^b |\\alpha' (\\varphi (s))| |\\varphi' (s)| ds\n",
    "    = \\int_{\\varphi(a)}^{\\varphi(b)} |\\alpha'(t)| dt\n",
    "    = L_{\\varphi(a)}^{\\varphi(b)} (\\alpha),\n",
    "$$\n",
    "\n",
    "onde a penúltima igualdade se deve à fórmula de mudança de variáveis do cálculo integral, tomando $t = \\varphi(s)$.\n",
    "\n"
   ]
  },
  {
   "cell_type": "markdown",
   "metadata": {},
   "source": [
    "#### Reparametrizações unit speed\n",
    "\n",
    "Tendo definido o que é uma curva *u.s.* e como reparametrizar curvas, fica o questionamento: Toda curva possui uma reparametrização que a torna *u.s.*? A resposta é sim! Acontece que, se temos $I = (a, b)$, definindo $\\psi : I \\to J \\subset \\mathbb{R}$ por\n",
    "\n",
    "$$\n",
    "    \\psi (t) = L_a^t (\\alpha),\n",
    "$$\n",
    "\n",
    "é possível provar que $\\psi$ é um difeomorfismo. Denotando sua inversa por $\\varphi$, afirmamos que $\\beta = \\alpha \\circ \\varphi$ está parametrizada por comprimento de arco. Antes de provarmos esse fato, observe que, pelo Teorema da Função Inversa, temos\n",
    "\n",
    "$$\n",
    "    \\varphi' (s) = \\frac{1}{\\psi'(t)},\n",
    "$$\n",
    "\n",
    "onde $s = \\psi(t)$. Porém, pelo Teorema Fundamental do Cálculo, $\\psi' (t) = |\\alpha' (t)|$. Logo:\n",
    "\n",
    "$$\n",
    "    \\varphi' (s) = \\frac{1}{|\\alpha' (t)|} = \\frac{1}{|\\alpha' (\\varphi (s))|}\n",
    "$$\n",
    "\n",
    "Com isso, veja que\n",
    "\n",
    "$$\n",
    "    |\\beta' (s)|\n",
    "    = |\\alpha' (\\varphi (s)) \\cdot \\varphi' (s)|\n",
    "    = |\\alpha' (\\varphi (s)) | \\cdot \\frac{1}{|\\alpha' (\\varphi (s))|}\n",
    "    = 1\n",
    "$$\n",
    "\n",
    "De modo que $\\beta$ é uma reparametrização de $\\alpha$ por comprimento de arco."
   ]
  },
  {
   "cell_type": "markdown",
   "metadata": {},
   "source": [
    "#### Exemplo: Catenária\n",
    "\n",
    "Vamos analisar uma curva chamada de *catenária*, que é o gráfico do cosseno hiperbólico:\n",
    "\n",
    "$$\n",
    "    \\alpha (t) = (t, \\cosh t),\n",
    "$$\n",
    "\n",
    "onde $\\cosh$ é a parte par da função exponencial, isto é:\n",
    "\n",
    "$$\n",
    "    \\cosh t = \\frac{e^t + e^{-t}}{2}\n",
    "$$\n"
   ]
  },
  {
   "cell_type": "code",
   "execution_count": 8,
   "metadata": {},
   "outputs": [
    {
     "name": "stderr",
     "output_type": "stream",
     "text": [
      "/home/caiolins/.local/lib/python3.8/site-packages/manim/mobject/value_tracker.py:74: DeprecationWarning: This method is not guaranteed to stay around. Please prefer setting the attribute normally or with Mobject.set().\n",
      "  self.set_points(np.zeros((1, 3)))\n",
      "                                                                        \r"
     ]
    },
    {
     "data": {
      "text/html": [
       "<video src=\"media/jupyter/ParametricCatenary@2022-04-04@09-01-03.mp4\" controls autoplay loop style=\"max-width: 60%;\"  >\n",
       "      Your browser does not support the <code>video</code> element.\n",
       "    </video>"
      ],
      "text/plain": [
       "<IPython.core.display.Video object>"
      ]
     },
     "metadata": {},
     "output_type": "display_data"
    }
   ],
   "source": [
    "%%manim -qh -v WARNING ParametricCatenary\n",
    "\n",
    "class ParametricCatenary(Scene):\n",
    "    \n",
    "    def construct(self):\n",
    "        \n",
    "        t = sp.Symbol(\"t\")\n",
    "        alpha = [\n",
    "            t,\n",
    "            sp.cosh(t)\n",
    "        ]\n",
    "        \n",
    "        scale = 1\n",
    "        speed = 1/scale\n",
    "        init_t = -2.2 \n",
    "        final_t = 2.2\n",
    "        delta_t = final_t - init_t\n",
    "        \n",
    "        curve = Curve2D(name=\"alpha\", t=t, vector_sym=alpha,\n",
    "                        init_t=init_t, color=RED, speed=speed,\n",
    "                        scale=scale)\n",
    "        curve.acceleration_m.set_color(BLUE)\n",
    "        \n",
    "        number_plane = NumberPlane(\n",
    "            x_range=[-10, 10, scale],\n",
    "            y_range=[-10, 10, scale],\n",
    "            background_line_style={\n",
    "                \"stroke_color\": TEAL,\n",
    "                \"stroke_width\": 4,\n",
    "                \"stroke_opacity\": 0.4\n",
    "            }\n",
    "        )\n",
    "        \n",
    "        self.add(number_plane, curve.time_m, curve.dot_m,\n",
    "                 curve.path_m, curve.velocity_m,\n",
    "                 curve.acceleration_m, curve.acceleration_name_m,\n",
    "                 curve.velocity_name_m)\n",
    "        \n",
    "        self.wait(delta_t)"
   ]
  },
  {
   "cell_type": "markdown",
   "metadata": {},
   "source": [
    "Vamos calcular o comprimento de arco dela utilizando `Sympy`:"
   ]
  },
  {
   "cell_type": "code",
   "execution_count": 20,
   "metadata": {},
   "outputs": [
    {
     "data": {
      "text/latex": [
       "$\\displaystyle \\sqrt{\\cosh^{2}{\\left(t \\right)}}$"
      ],
      "text/plain": [
       "sqrt(cosh(t)**2)"
      ]
     },
     "execution_count": 20,
     "metadata": {},
     "output_type": "execute_result"
    }
   ],
   "source": [
    "x, y = t, sp.cosh(t)\n",
    "dx, dy = sp.diff(x), sp.diff(y)\n",
    "norm = sp.sqrt(dx**2 + dy**2)\n",
    "norm = norm.simplify()\n",
    "norm"
   ]
  },
  {
   "cell_type": "markdown",
   "metadata": {},
   "source": [
    "Como $\\cosh t > 0$ para todo $t \\in \\mathbb{R}$, temos que $|\\alpha' (t)| = \\cosh t$. Integrando, temos:"
   ]
  },
  {
   "cell_type": "code",
   "execution_count": 21,
   "metadata": {},
   "outputs": [
    {
     "data": {
      "text/latex": [
       "$\\displaystyle \\frac{\\sqrt{\\cosh^{2}{\\left(t \\right)}} \\sinh{\\left(t \\right)}}{\\cosh{\\left(t \\right)}}$"
      ],
      "text/plain": [
       "sqrt(cosh(t)**2)*sinh(t)/cosh(t)"
      ]
     },
     "execution_count": 21,
     "metadata": {},
     "output_type": "execute_result"
    }
   ],
   "source": [
    "sp.integrate(norm)"
   ]
  },
  {
   "cell_type": "markdown",
   "metadata": {},
   "source": [
    "Vemos que o `Sympy` está precisando de uma ajudinha. Pelo que foi dito acima, está claro que a integral do comprimento de arco é dada por $\\sinh$.\n",
    "\n",
    "Essa é nossa função $\\psi$. A função $\\varphi$ é a inversa dela, dada por $\\text{arcsinh}$. Com isso, obtemos uma reparametrização por comprimento de arco. Vamos animá-la:"
   ]
  },
  {
   "cell_type": "code",
   "execution_count": 22,
   "metadata": {},
   "outputs": [
    {
     "name": "stderr",
     "output_type": "stream",
     "text": [
      "/home/caiolins/.local/lib/python3.8/site-packages/manim/mobject/value_tracker.py:74: DeprecationWarning: This method is not guaranteed to stay around. Please prefer setting the attribute normally or with Mobject.set().\n",
      "  self.set_points(np.zeros((1, 3)))\n",
      "                                                                        \r"
     ]
    },
    {
     "data": {
      "text/html": [
       "<video src=\"media/jupyter/ParametricCatenary@2022-04-04@00-48-25.mp4\" controls autoplay loop style=\"max-width: 60%;\"  >\n",
       "      Your browser does not support the <code>video</code> element.\n",
       "    </video>"
      ],
      "text/plain": [
       "<IPython.core.display.Video object>"
      ]
     },
     "metadata": {},
     "output_type": "display_data"
    }
   ],
   "source": [
    "%%manim -qh -v WARNING ParametricCatenary\n",
    "\n",
    "class ParametricCatenary(Scene):\n",
    "    \n",
    "    def construct(self):\n",
    "        \n",
    "        t = sp.Symbol(\"t\")\n",
    "        alpha = [\n",
    "            sp.asinh(t),\n",
    "            sp.cosh(sp.asinh(t))\n",
    "        ]\n",
    "        \n",
    "        scale = 1\n",
    "        speed = 1/scale\n",
    "        init_t = -5 \n",
    "        final_t = 5\n",
    "        delta_t = final_t - init_t\n",
    "        \n",
    "        curve = Curve2D(name=\"alpha\", t=t, vector_sym=alpha,\n",
    "                        init_t=init_t, color=RED, speed=speed,\n",
    "                        scale=scale)\n",
    "        curve.acceleration_m.set_color(BLUE)\n",
    "        \n",
    "        number_plane = NumberPlane(\n",
    "            x_range=[-10, 10, scale],\n",
    "            y_range=[-10, 10, scale],\n",
    "            background_line_style={\n",
    "                \"stroke_color\": TEAL,\n",
    "                \"stroke_width\": 4,\n",
    "                \"stroke_opacity\": 0.4\n",
    "            }\n",
    "        )\n",
    "        \n",
    "        self.add(number_plane, curve.time_m, curve.dot_m,\n",
    "                 curve.path_m, curve.velocity_m,\n",
    "                 curve.acceleration_m, curve.acceleration_name_m,\n",
    "                 curve.velocity_name_m)\n",
    "        \n",
    "        self.wait(delta_t)"
   ]
  },
  {
   "cell_type": "markdown",
   "metadata": {},
   "source": [
    "Como você pode perceber, os vetores $\\alpha'$ e $\\alpha''$ são ortogonais! Isso não é um caso particular. De fato, a reparametrização u.s. implica que $\\langle \\alpha' (t), \\alpha' (t) \\rangle = 1$ para todo $t$. Derivando ambos lados da igualdade com relação a $t$, ficamos com:\n",
    "\n",
    "$$\n",
    "    \\langle \\alpha'' (t), \\alpha' (t) \\rangle +\n",
    "    \\langle \\alpha' (t), \\alpha'' (t) \\rangle = 0\n",
    "    \\iff\n",
    "    2 \\langle \\alpha' (t), \\alpha'' (t) \\rangle = 0\n",
    "    \\iff\n",
    "    \\langle \\alpha' (t), \\alpha'' (t) \\rangle = 0\n",
    "$$"
   ]
  },
  {
   "cell_type": "markdown",
   "metadata": {},
   "source": [
    "### Curvas em R<sup>3</sup>\n",
    "\n",
    "Tudo que fizemos até agora se aplica, sem nenhuma alteração, a $\\mathbb{R}^3$.\n",
    "Nós vamos agora apenas mostrar uma curva tridimensional, desenhada de maneira semelhante com a classe `Curve3D`.\n",
    "Gostaríamos de ter feito mais uma curva, porém o tempo de renderização é muito alto."
   ]
  },
  {
   "cell_type": "code",
   "execution_count": 23,
   "metadata": {},
   "outputs": [],
   "source": [
    "from Curve3D import Curve3D\n",
    "import sympy as sp\n",
    "from manim import *"
   ]
  },
  {
   "cell_type": "code",
   "execution_count": 24,
   "metadata": {},
   "outputs": [
    {
     "name": "stderr",
     "output_type": "stream",
     "text": [
      "/home/caiolins/.local/lib/python3.8/site-packages/manim/mobject/value_tracker.py:74: DeprecationWarning: This method is not guaranteed to stay around. Please prefer setting the attribute normally or with Mobject.set().\n",
      "  self.set_points(np.zeros((1, 3)))\n",
      "                                                                        \r"
     ]
    },
    {
     "data": {
      "text/html": [
       "<video src=\"media/jupyter/SpacialCurve@2022-04-04@02-11-32.mp4\" controls autoplay loop style=\"max-width: 60%;\"  >\n",
       "      Your browser does not support the <code>video</code> element.\n",
       "    </video>"
      ],
      "text/plain": [
       "<IPython.core.display.Video object>"
      ]
     },
     "metadata": {},
     "output_type": "display_data"
    }
   ],
   "source": [
    "%%manim -qm -v WARNING SpacialCurve\n",
    "\n",
    "## Infelizmente, aparentemente há um bug no qual o método\n",
    "## add_updater não funcional para vetores 3D, comprometendo a\n",
    "## implementação da classe\n",
    "## Utilizamos, nesse caso, o método .become()\n",
    "\n",
    "class SpacialCurve(ThreeDScene):\n",
    "    \n",
    "    def construct(self):\n",
    "        \n",
    "        t = sp.Symbol(\"t\")\n",
    "        \n",
    "        c = 1 / np.sqrt(2) # make it u.s.\n",
    "        \n",
    "        alpha = [\n",
    "            sp.cos(t * c),\n",
    "            sp.sin(t * c),\n",
    "            t * c\n",
    "        ]\n",
    "        \n",
    "        init_t = - 2 * PI\n",
    "        final_t = 2 * PI\n",
    "        delta_t = final_t - init_t\n",
    "        \n",
    "        ax = ThreeDAxes(x_range=[-10, 10, 1],\n",
    "                        y_range=[-10, 10, 1],\n",
    "                        z_range=[-10, 10, 1])\n",
    "        \n",
    "        curve = Curve3D(name=\"alpha\", t=t, vector_sym=alpha,\n",
    "                        init_t=init_t, color=RED)\n",
    "        curve.normal_m.set_color(BLUE)\n",
    "        curve.binormal_m.set_color(GREEN)\n",
    "        \n",
    "        self.set_camera_orientation(phi=2*PI/5, theta=PI/5)\n",
    "        \n",
    "        self.add(curve.time_m, curve.dot_m, curve.path_m,\n",
    "                 curve.velocity_m, curve.normal_m, curve.binormal_m,\n",
    "                 ax)\n",
    "        \n",
    "        self.wait(delta_t)"
   ]
  },
  {
   "cell_type": "markdown",
   "metadata": {},
   "source": [
    "### Referências\n",
    "\n",
    "* Freire de Lima, Ronaldo. *Introdução à Geometria Diferencial*. Rio de Janeiro, Brasil: Sociedade Brasileira de Matemática, 2016.\n",
    "\n",
    "* The Manim Community Developers. (2022). Manim – Mathematical Animation Framework (Version v0.15.1) [Computer software]. https://www.manim.community/\n",
    "\n",
    "* Meurer A, Smith CP, Paprocki M, Čertík O, Kirpichev SB, Rocklin M, Kumar A, Ivanov S, Moore JK, Singh S, Rathnayake T, Vig S, Granger BE, Muller RP, Bonazzi F, Gupta H, Vats S, Johansson F, Pedregosa F, Curry MJ, Terrel AR, Roučka Š, Saboo A, Fernando I, Kulal S, Cimrman R, Scopatz A. (2017) **SymPy**: symbolic computing in Python. PeerJ Computer Science 3:e103 https://doi.org/10.7717/peerj-cs.103"
   ]
  },
  {
   "cell_type": "code",
   "execution_count": null,
   "metadata": {},
   "outputs": [],
   "source": []
  }
 ],
 "metadata": {
  "kernelspec": {
   "display_name": "Python 3 (ipykernel)",
   "language": "python",
   "name": "python3"
  },
  "language_info": {
   "codemirror_mode": {
    "name": "ipython",
    "version": 3
   },
   "file_extension": ".py",
   "mimetype": "text/x-python",
   "name": "python",
   "nbconvert_exporter": "python",
   "pygments_lexer": "ipython3",
   "version": "3.8.10"
  }
 },
 "nbformat": 4,
 "nbformat_minor": 4
}
